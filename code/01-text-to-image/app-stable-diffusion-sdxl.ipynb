{
 "cells": [
  {
   "cell_type": "markdown",
   "id": "5e58e9f1-ff66-498d-a8a9-52cdb7feb7c0",
   "metadata": {},
   "source": [
    "# Generative AI: Stable Diffusion SDXL\n",
    "---\n",
    "\n",
    "**Stable Diffusion SDXL** is one of the foundation model used for `text-to-image` and `image-to-image` tasks. This will allow the customers to respond to use cases, like:\n",
    "\n",
    "- Creative idea for media, fashion, and other industry\n",
    "- Image inpainting\n",
    "- Image colorization\n",
    "\n",
    "\n",
    "Documentation of this model can be found on [Stability.ai](https://stability.ai/sdxl-aws-documentation) website.\n",
    "\n",
    "<div class=\"alert alert-block alert-info\">\n",
    "    <b>Note</b>: In this notebook, we will use SDXL 1.0, which required you to subscribe to the model in the AWS marketplace page. Read the <b>Important</b> below to get more information.\n",
    "</div>\n"
   ]
  },
  {
   "cell_type": "markdown",
   "id": "5a179040-6784-4c3a-b8ce-c280ee8040f1",
   "metadata": {},
   "source": [
    "### Important\n",
    "\n",
    "Please visit model detail page in https://aws.amazon.com/marketplace/pp/prodview-pe7wqwehghdtm to learn more. If you do not have access to the link, please contact account admin for the help.\n",
    "\n",
    "You will find details about the model including pricing, supported region, and end user license agreement. To use the model, please click “Continue to Subscribe” from the detail page, come back here and learn how to deploy and inference.\n"
   ]
  },
  {
   "cell_type": "markdown",
   "id": "aaf8df7c-75cb-49ac-aab0-1774dd3a5879",
   "metadata": {},
   "source": [
    "## Set up"
   ]
  },
  {
   "cell_type": "code",
   "execution_count": null,
   "id": "2a7a7bd0-7d8e-4565-9ea3-53c23f0438d4",
   "metadata": {
    "tags": []
   },
   "outputs": [],
   "source": [
    "!pip install 'stability-sdk[sagemaker] @ git+https://github.com/Stability-AI/stability-sdk.git@sagemaker' --quiet\n",
    "!pip install protobuf==3.20 --quiet\n",
    "!pip install --upgrade pip sagemaker boto3 --quiet"
   ]
  },
  {
   "cell_type": "code",
   "execution_count": null,
   "id": "563f5288-0468-4588-94d0-05a075983bc1",
   "metadata": {
    "tags": []
   },
   "outputs": [],
   "source": [
    "import sagemaker\n",
    "from sagemaker import ModelPackage, get_execution_role\n",
    "from stability_sdk_sagemaker.predictor import StabilityPredictor\n",
    "from stability_sdk_sagemaker.models import get_model_package_arn\n",
    "from stability_sdk.api import GenerationRequest, GenerationResponse, TextPrompt\n",
    "\n",
    "from PIL import Image\n",
    "from typing import Union, Tuple\n",
    "import io\n",
    "import os\n",
    "import base64\n",
    "import boto3"
   ]
  },
  {
   "cell_type": "code",
   "execution_count": null,
   "id": "d9e63152-14b5-472d-aa02-e7c5f38a3afc",
   "metadata": {
    "tags": []
   },
   "outputs": [],
   "source": [
    "import logging\n",
    "\n",
    "logger = logging.getLogger()\n",
    "logging.basicConfig(format='%(asctime)s %(levelname)s:%(message)s', level=logging.INFO, datefmt='%I:%M:%S')\n",
    "logger.setLevel(logging.INFO)"
   ]
  },
  {
   "cell_type": "markdown",
   "id": "382e985c-d657-41e4-9cc0-4d63e1793cac",
   "metadata": {},
   "source": [
    "## Create JumpStart model and endpoint"
   ]
  },
  {
   "cell_type": "code",
   "execution_count": null,
   "id": "9a515bb4-2bec-4d34-8f82-396d778656d1",
   "metadata": {
    "tags": []
   },
   "outputs": [],
   "source": [
    "from sagemaker.utils import name_from_base\n",
    "\n",
    "endpoint_name = name_from_base('sdxl-1-0')  # insert your model endpoint name here"
   ]
  },
  {
   "cell_type": "markdown",
   "id": "83661c57-2b15-4c8b-9986-f15b1d5bab81",
   "metadata": {},
   "source": [
    "Get the model package mapping, please note that the current model is not available in all AWS regions. But it will keep updating."
   ]
  },
  {
   "cell_type": "code",
   "execution_count": null,
   "id": "822325c0-43f5-4aff-8934-48dd647d749c",
   "metadata": {
    "tags": []
   },
   "outputs": [],
   "source": [
    "model_package_map = {\n",
    "    \"us-east-1\": \"arn:aws:sagemaker:us-east-1:865070037744:model-package/sdxl-v1-0-2042286-300c57d4fa1e39968d711d754640b0b6\",\n",
    "    \"us-east-2\": \"arn:aws:sagemaker:us-east-2:057799348421:model-package/sdxl-v1-0-2042286-300c57d4fa1e39968d711d754640b0b6\",\n",
    "    \"us-west-2\": \"arn:aws:sagemaker:us-west-2:594846645681:model-package/sdxl-v1-0-2042286-300c57d4fa1e39968d711d754640b0b6\",\n",
    "    \"ca-central-1\": \"arn:aws:sagemaker:ca-central-1:470592106596:model-package/sdxl-v1-0-2042286-300c57d4fa1e39968d711d754640b0b6\",\n",
    "    \"eu-central-1\": \"arn:aws:sagemaker:eu-central-1:446921602837:model-package/sdxl-v1-0-2042286-300c57d4fa1e39968d711d754640b0b6\",\n",
    "    \"eu-west-1\": \"arn:aws:sagemaker:eu-west-1:985815980388:model-package/sdxl-v1-0-2042286-300c57d4fa1e39968d711d754640b0b6\",\n",
    "    \"eu-west-2\": \"arn:aws:sagemaker:eu-west-2:856760150666:model-package/sdxl-v1-0-2042286-300c57d4fa1e39968d711d754640b0b6\",\n",
    "    \"ap-northeast-2\": \"arn:aws:sagemaker:ap-northeast-2:745090734665:model-package/sdxl-v1-0-2042286-300c57d4fa1e39968d711d754640b0b6\",\n",
    "    \"ap-northeast-1\": \"arn:aws:sagemaker:ap-northeast-1:977537786026:model-package/sdxl-v1-0-2042286-300c57d4fa1e39968d711d754640b0b6\",\n",
    "    \"ap-south-1\": \"arn:aws:sagemaker:ap-south-1:077584701553:model-package/sdxl-v1-0-2042286-300c57d4fa1e39968d711d754640b0b6\"\n",
    "}\n",
    "\n",
    "REGION = boto3.Session().region_name\n",
    "logger.info(f'Region => {REGION}')\n",
    "\n",
    "if REGION not in model_package_map.keys():\n",
    "    raise (\"UNSUPPORTED REGION\")\n",
    "    \n",
    "package_arn = model_package_map[REGION]\n",
    "ROLE = get_execution_role()\n",
    "sagemaker_session = sagemaker.Session()"
   ]
  },
  {
   "cell_type": "code",
   "execution_count": null,
   "id": "02e0eb5c-5d7a-42e9-a5da-17daa1c3b215",
   "metadata": {
    "tags": []
   },
   "outputs": [],
   "source": [
    "sdxl_model = ModelPackage(\n",
    "    role=ROLE,\n",
    "    model_package_arn=package_arn,\n",
    "    sagemaker_session=sagemaker_session,\n",
    "    predictor_cls=StabilityPredictor\n",
    ")\n",
    "\n",
    "instance_type = \"ml.g5.2xlarge\" \n",
    "deployed_model = sdxl_model.deploy(\n",
    "    initial_instance_count=1,\n",
    "    instance_type=instance_type,\n",
    "    endpoint_name=endpoint_name\n",
    ")"
   ]
  },
  {
   "cell_type": "markdown",
   "id": "56be59ae-112e-43f1-8abf-2b48b6122d2c",
   "metadata": {},
   "source": [
    "### Validate endpoint: `text-to-image`"
   ]
  },
  {
   "cell_type": "markdown",
   "id": "46d9de78-dacc-4a3e-96d6-a29a25307110",
   "metadata": {},
   "source": [
    "API reference [here](https://platform.stability.ai/docs/features/api-parameters)"
   ]
  },
  {
   "cell_type": "code",
   "execution_count": null,
   "id": "997bea5a-5bf9-4ee9-b390-efa06fc527f3",
   "metadata": {
    "tags": []
   },
   "outputs": [],
   "source": [
    "def decode_and_show(model_response: GenerationResponse) -> None:\n",
    "    \"\"\"\n",
    "    Decodes and displays an image from SDXL output\n",
    "\n",
    "    Args:\n",
    "        model_response (GenerationResponse): The response object from the deployed SDXL model.\n",
    "\n",
    "    Returns:\n",
    "        None\n",
    "    \"\"\"\n",
    "    image = model_response.artifacts[0].base64\n",
    "    image_data = base64.b64decode(image.encode())\n",
    "    image = Image.open(io.BytesIO(image_data))\n",
    "    display(image)\n",
    "\n",
    "    \n",
    "def save_img_to_png(model_response: GenerationResponse, img_path: str):\n",
    "    \"\"\"\n",
    "    Save the image from SDXL output\n",
    "    \n",
    "    Args:\n",
    "        model_response (GenerationResponse): The response object from the deployed SDXL model.\n",
    "        img_path (str): The path where the image will be saved onto\n",
    "        \n",
    "    Returns:\n",
    "        None\n",
    "    \"\"\"\n",
    "    image = model_response.artifacts[0].base64\n",
    "    image_data = base64.b64decode(image.encode())\n",
    "    image = Image.open(io.BytesIO(image_data))\n",
    "    image.save(img_path)\n"
   ]
  },
  {
   "cell_type": "code",
   "execution_count": null,
   "id": "5a212eae-87bd-4d73-9adc-4f47ac6ba784",
   "metadata": {
    "tags": []
   },
   "outputs": [],
   "source": [
    "text = \"Landscape of buildings, multiple buildings, dark, raining, glimpse, quiet, 8k, realistic\"\n",
    "\n",
    "output = deployed_model.predict(\n",
    "    GenerationRequest(\n",
    "        text_prompts=[TextPrompt(text=text)],\n",
    "        height=1024,\n",
    "        width=1024,\n",
    "        steps=100,\n",
    "        cfg_scale=12,\n",
    "    )\n",
    ")\n",
    "decode_and_show(output)\n",
    "save_img_to_png(output, 'out_img/dark_raining_landscape.png')"
   ]
  },
  {
   "cell_type": "markdown",
   "id": "443db4eb-44bf-441a-9012-eeb04f0e3960",
   "metadata": {},
   "source": [
    "Explore multiple `TextPrompt` and `negative_prompt` API."
   ]
  },
  {
   "cell_type": "code",
   "execution_count": null,
   "id": "533d4571-6c86-41cf-8abe-5a35dde57aed",
   "metadata": {
    "tags": []
   },
   "outputs": [],
   "source": [
    "output = deployed_model.predict(\n",
    "    GenerationRequest(\n",
    "        text_prompts=[\n",
    "            TextPrompt(text='beautiful night sky above japanese town', weight=0.9),\n",
    "            TextPrompt(text='Snow falling down, night sky', weight=0.5),\n",
    "            TextPrompt(text='Clouds', weight=-1)\n",
    "        ],\n",
    "        style_preset=\"anime\",\n",
    "        height=1024,\n",
    "        width=1024,\n",
    "        negative_prompts=['people in image', 'cloud', 'poorly rendered'],\n",
    "    )\n",
    ")\n",
    "decode_and_show(output)\n",
    "save_img_to_png(output, 'out_img/night_japan_town.png')"
   ]
  },
  {
   "cell_type": "code",
   "execution_count": null,
   "id": "8d4a1105-125d-4d93-92a6-ff741deadead",
   "metadata": {},
   "outputs": [],
   "source": [
    "text = \"A cute fluffy white cat stands on its hind legs, peering curiously into an ornate golden mirror. In the reflection the cat sees itself.\"\n",
    "\n",
    "negative_prompts = ['distorted cat features', 'distorted lion features', 'poorly rendered']\n",
    "\n",
    "output = deployed_model.predict(\n",
    "    GenerationRequest(\n",
    "        text_prompts=[TextPrompt(text=text)],\n",
    "        style_preset=\"neon-punk\",\n",
    "        seed=4343434,\n",
    "        height=640,\n",
    "        width=1536,\n",
    "        steps=150,\n",
    "        cfg_scale=7,\n",
    "        negative_prompts=negative_prompts\n",
    "    )\n",
    ")\n",
    "decode_and_show(output)"
   ]
  },
  {
   "cell_type": "markdown",
   "id": "b7d9d78b-17d4-4892-92c9-6dfec07e6bfa",
   "metadata": {},
   "source": [
    "### Validate endpoint: `image-to-image`\n",
    "\n",
    "I use both public cat image (from stability.ai) and my personal cat photo to demonstrate this. Feel free to adjust different prompt parameters to test it out!"
   ]
  },
  {
   "cell_type": "code",
   "execution_count": null,
   "id": "8d1e0ee3-7f86-4a45-bac8-60be967b8241",
   "metadata": {
    "tags": []
   },
   "outputs": [],
   "source": [
    "!wget https://platform.stability.ai/Cat_August_2010-4.jpg\n",
    "display(Image.open('Cat_August_2010-4.jpg'))"
   ]
  },
  {
   "cell_type": "code",
   "execution_count": null,
   "id": "64b77d8e-94a4-482d-bd83-93c1dd06c270",
   "metadata": {
    "tags": []
   },
   "outputs": [],
   "source": [
    "def encode_image(image_path: str, resize: bool = True, size: Tuple[int, int] = (1024, 1024)) -> Union[str, None]:\n",
    "    \"\"\"\n",
    "    Encode an image as a base64 string, optionally resizing it to a supported resolution.\n",
    "\n",
    "    Args:\n",
    "        image_path (str): The path to the image file.\n",
    "        resize (bool, optional): Whether to resize the image. Defaults to True.\n",
    "\n",
    "    Returns:\n",
    "        Union[str, None]: The encoded image as a string, or None if encoding failed.\n",
    "    \"\"\"\n",
    "    assert os.path.exists(image_path)\n",
    "\n",
    "    if resize:\n",
    "        image = Image.open(image_path)\n",
    "        image = image.resize(size)\n",
    "        image.save(\"image_path_resized.png\")\n",
    "        image_path = \"image_path_resized.png\"\n",
    "        \n",
    "    image = Image.open(image_path)\n",
    "    assert image.size == size\n",
    "    with open(image_path, \"rb\") as image_file:\n",
    "        img_byte_array = image_file.read()\n",
    "        # Encode the byte array as a Base64 string\n",
    "        try:\n",
    "            base64_str = base64.b64encode(img_byte_array).decode(\"utf-8\")\n",
    "            return base64_str\n",
    "        except Exception as e:\n",
    "            print(f\"Failed to encode image {image_path} as base64 string.\")\n",
    "            print(e)\n",
    "            return None\n",
    "    "
   ]
  },
  {
   "cell_type": "code",
   "execution_count": null,
   "id": "1c98cddc-acd5-44b8-8f1a-493fb13b6058",
   "metadata": {
    "tags": []
   },
   "outputs": [],
   "source": [
    "cat_path = \"Cat_August_2010-4.jpg\"\n",
    "\n",
    "size = (1536, 640)\n",
    "cat_data = encode_image(cat_path, size=size)\n",
    "\n",
    "output = deployed_model.predict(\n",
    "    GenerationRequest(\n",
    "        text_prompts=[TextPrompt(text=\"sketch cat image\")],\n",
    "        init_image=cat_data,\n",
    "        cfg_scale=9,\n",
    "        image_strength=0.8,\n",
    "        seed=42,\n",
    "        height=size[0],\n",
    "        width=size[1],\n",
    "        init_image_mode=\"STEP_SCHEDULE\"\n",
    "    )\n",
    ")\n",
    "decode_and_show(output)"
   ]
  },
  {
   "cell_type": "code",
   "execution_count": null,
   "id": "df53d0fc-d246-4ada-afa5-f9d01d494bf8",
   "metadata": {
    "tags": []
   },
   "outputs": [],
   "source": [
    "cat_path = 'my-cat.jpg'\n",
    "size = (1024, 1024)\n",
    "cat_data = encode_image(cat_path, size=size)\n",
    "\n",
    "output = deployed_model.predict(\n",
    "    GenerationRequest(\n",
    "        text_prompts=[TextPrompt(text=\"looking up, playful, handsome looking, anime style\")],\n",
    "        init_image=cat_data,\n",
    "        cfg_scale=20,\n",
    "        steps=130,\n",
    "        image_strength=.4,\n",
    "        height=size[0],\n",
    "        width=size[1],\n",
    "        style_preset='anime'\n",
    "    )\n",
    ")\n",
    "decode_and_show(output)"
   ]
  },
  {
   "cell_type": "markdown",
   "id": "4aaabb00-07f4-41d5-a470-728b3a7e3943",
   "metadata": {},
   "source": [
    "## Optional: Delete model and endpoint\n",
    "---\n",
    "\n",
    "You can use the below command to get the `EndpointName` for deletion."
   ]
  },
  {
   "cell_type": "code",
   "execution_count": null,
   "id": "793d4a4e-545f-405d-bd51-ce1626360302",
   "metadata": {
    "tags": []
   },
   "outputs": [],
   "source": [
    "!aws sagemaker list-endpoints"
   ]
  },
  {
   "cell_type": "code",
   "execution_count": null,
   "id": "6b646d8d-5a79-4e08-bfb6-3f0229069448",
   "metadata": {},
   "outputs": [],
   "source": [
    "deployed_model.delete_model()\n",
    "deployed_model.delete_endpoint()"
   ]
  }
 ],
 "metadata": {
  "availableInstances": [
   {
    "_defaultOrder": 0,
    "_isFastLaunch": true,
    "category": "General purpose",
    "gpuNum": 0,
    "hideHardwareSpecs": false,
    "memoryGiB": 4,
    "name": "ml.t3.medium",
    "vcpuNum": 2
   },
   {
    "_defaultOrder": 1,
    "_isFastLaunch": false,
    "category": "General purpose",
    "gpuNum": 0,
    "hideHardwareSpecs": false,
    "memoryGiB": 8,
    "name": "ml.t3.large",
    "vcpuNum": 2
   },
   {
    "_defaultOrder": 2,
    "_isFastLaunch": false,
    "category": "General purpose",
    "gpuNum": 0,
    "hideHardwareSpecs": false,
    "memoryGiB": 16,
    "name": "ml.t3.xlarge",
    "vcpuNum": 4
   },
   {
    "_defaultOrder": 3,
    "_isFastLaunch": false,
    "category": "General purpose",
    "gpuNum": 0,
    "hideHardwareSpecs": false,
    "memoryGiB": 32,
    "name": "ml.t3.2xlarge",
    "vcpuNum": 8
   },
   {
    "_defaultOrder": 4,
    "_isFastLaunch": true,
    "category": "General purpose",
    "gpuNum": 0,
    "hideHardwareSpecs": false,
    "memoryGiB": 8,
    "name": "ml.m5.large",
    "vcpuNum": 2
   },
   {
    "_defaultOrder": 5,
    "_isFastLaunch": false,
    "category": "General purpose",
    "gpuNum": 0,
    "hideHardwareSpecs": false,
    "memoryGiB": 16,
    "name": "ml.m5.xlarge",
    "vcpuNum": 4
   },
   {
    "_defaultOrder": 6,
    "_isFastLaunch": false,
    "category": "General purpose",
    "gpuNum": 0,
    "hideHardwareSpecs": false,
    "memoryGiB": 32,
    "name": "ml.m5.2xlarge",
    "vcpuNum": 8
   },
   {
    "_defaultOrder": 7,
    "_isFastLaunch": false,
    "category": "General purpose",
    "gpuNum": 0,
    "hideHardwareSpecs": false,
    "memoryGiB": 64,
    "name": "ml.m5.4xlarge",
    "vcpuNum": 16
   },
   {
    "_defaultOrder": 8,
    "_isFastLaunch": false,
    "category": "General purpose",
    "gpuNum": 0,
    "hideHardwareSpecs": false,
    "memoryGiB": 128,
    "name": "ml.m5.8xlarge",
    "vcpuNum": 32
   },
   {
    "_defaultOrder": 9,
    "_isFastLaunch": false,
    "category": "General purpose",
    "gpuNum": 0,
    "hideHardwareSpecs": false,
    "memoryGiB": 192,
    "name": "ml.m5.12xlarge",
    "vcpuNum": 48
   },
   {
    "_defaultOrder": 10,
    "_isFastLaunch": false,
    "category": "General purpose",
    "gpuNum": 0,
    "hideHardwareSpecs": false,
    "memoryGiB": 256,
    "name": "ml.m5.16xlarge",
    "vcpuNum": 64
   },
   {
    "_defaultOrder": 11,
    "_isFastLaunch": false,
    "category": "General purpose",
    "gpuNum": 0,
    "hideHardwareSpecs": false,
    "memoryGiB": 384,
    "name": "ml.m5.24xlarge",
    "vcpuNum": 96
   },
   {
    "_defaultOrder": 12,
    "_isFastLaunch": false,
    "category": "General purpose",
    "gpuNum": 0,
    "hideHardwareSpecs": false,
    "memoryGiB": 8,
    "name": "ml.m5d.large",
    "vcpuNum": 2
   },
   {
    "_defaultOrder": 13,
    "_isFastLaunch": false,
    "category": "General purpose",
    "gpuNum": 0,
    "hideHardwareSpecs": false,
    "memoryGiB": 16,
    "name": "ml.m5d.xlarge",
    "vcpuNum": 4
   },
   {
    "_defaultOrder": 14,
    "_isFastLaunch": false,
    "category": "General purpose",
    "gpuNum": 0,
    "hideHardwareSpecs": false,
    "memoryGiB": 32,
    "name": "ml.m5d.2xlarge",
    "vcpuNum": 8
   },
   {
    "_defaultOrder": 15,
    "_isFastLaunch": false,
    "category": "General purpose",
    "gpuNum": 0,
    "hideHardwareSpecs": false,
    "memoryGiB": 64,
    "name": "ml.m5d.4xlarge",
    "vcpuNum": 16
   },
   {
    "_defaultOrder": 16,
    "_isFastLaunch": false,
    "category": "General purpose",
    "gpuNum": 0,
    "hideHardwareSpecs": false,
    "memoryGiB": 128,
    "name": "ml.m5d.8xlarge",
    "vcpuNum": 32
   },
   {
    "_defaultOrder": 17,
    "_isFastLaunch": false,
    "category": "General purpose",
    "gpuNum": 0,
    "hideHardwareSpecs": false,
    "memoryGiB": 192,
    "name": "ml.m5d.12xlarge",
    "vcpuNum": 48
   },
   {
    "_defaultOrder": 18,
    "_isFastLaunch": false,
    "category": "General purpose",
    "gpuNum": 0,
    "hideHardwareSpecs": false,
    "memoryGiB": 256,
    "name": "ml.m5d.16xlarge",
    "vcpuNum": 64
   },
   {
    "_defaultOrder": 19,
    "_isFastLaunch": false,
    "category": "General purpose",
    "gpuNum": 0,
    "hideHardwareSpecs": false,
    "memoryGiB": 384,
    "name": "ml.m5d.24xlarge",
    "vcpuNum": 96
   },
   {
    "_defaultOrder": 20,
    "_isFastLaunch": false,
    "category": "General purpose",
    "gpuNum": 0,
    "hideHardwareSpecs": true,
    "memoryGiB": 0,
    "name": "ml.geospatial.interactive",
    "supportedImageNames": [
     "sagemaker-geospatial-v1-0"
    ],
    "vcpuNum": 0
   },
   {
    "_defaultOrder": 21,
    "_isFastLaunch": true,
    "category": "Compute optimized",
    "gpuNum": 0,
    "hideHardwareSpecs": false,
    "memoryGiB": 4,
    "name": "ml.c5.large",
    "vcpuNum": 2
   },
   {
    "_defaultOrder": 22,
    "_isFastLaunch": false,
    "category": "Compute optimized",
    "gpuNum": 0,
    "hideHardwareSpecs": false,
    "memoryGiB": 8,
    "name": "ml.c5.xlarge",
    "vcpuNum": 4
   },
   {
    "_defaultOrder": 23,
    "_isFastLaunch": false,
    "category": "Compute optimized",
    "gpuNum": 0,
    "hideHardwareSpecs": false,
    "memoryGiB": 16,
    "name": "ml.c5.2xlarge",
    "vcpuNum": 8
   },
   {
    "_defaultOrder": 24,
    "_isFastLaunch": false,
    "category": "Compute optimized",
    "gpuNum": 0,
    "hideHardwareSpecs": false,
    "memoryGiB": 32,
    "name": "ml.c5.4xlarge",
    "vcpuNum": 16
   },
   {
    "_defaultOrder": 25,
    "_isFastLaunch": false,
    "category": "Compute optimized",
    "gpuNum": 0,
    "hideHardwareSpecs": false,
    "memoryGiB": 72,
    "name": "ml.c5.9xlarge",
    "vcpuNum": 36
   },
   {
    "_defaultOrder": 26,
    "_isFastLaunch": false,
    "category": "Compute optimized",
    "gpuNum": 0,
    "hideHardwareSpecs": false,
    "memoryGiB": 96,
    "name": "ml.c5.12xlarge",
    "vcpuNum": 48
   },
   {
    "_defaultOrder": 27,
    "_isFastLaunch": false,
    "category": "Compute optimized",
    "gpuNum": 0,
    "hideHardwareSpecs": false,
    "memoryGiB": 144,
    "name": "ml.c5.18xlarge",
    "vcpuNum": 72
   },
   {
    "_defaultOrder": 28,
    "_isFastLaunch": false,
    "category": "Compute optimized",
    "gpuNum": 0,
    "hideHardwareSpecs": false,
    "memoryGiB": 192,
    "name": "ml.c5.24xlarge",
    "vcpuNum": 96
   },
   {
    "_defaultOrder": 29,
    "_isFastLaunch": true,
    "category": "Accelerated computing",
    "gpuNum": 1,
    "hideHardwareSpecs": false,
    "memoryGiB": 16,
    "name": "ml.g4dn.xlarge",
    "vcpuNum": 4
   },
   {
    "_defaultOrder": 30,
    "_isFastLaunch": false,
    "category": "Accelerated computing",
    "gpuNum": 1,
    "hideHardwareSpecs": false,
    "memoryGiB": 32,
    "name": "ml.g4dn.2xlarge",
    "vcpuNum": 8
   },
   {
    "_defaultOrder": 31,
    "_isFastLaunch": false,
    "category": "Accelerated computing",
    "gpuNum": 1,
    "hideHardwareSpecs": false,
    "memoryGiB": 64,
    "name": "ml.g4dn.4xlarge",
    "vcpuNum": 16
   },
   {
    "_defaultOrder": 32,
    "_isFastLaunch": false,
    "category": "Accelerated computing",
    "gpuNum": 1,
    "hideHardwareSpecs": false,
    "memoryGiB": 128,
    "name": "ml.g4dn.8xlarge",
    "vcpuNum": 32
   },
   {
    "_defaultOrder": 33,
    "_isFastLaunch": false,
    "category": "Accelerated computing",
    "gpuNum": 4,
    "hideHardwareSpecs": false,
    "memoryGiB": 192,
    "name": "ml.g4dn.12xlarge",
    "vcpuNum": 48
   },
   {
    "_defaultOrder": 34,
    "_isFastLaunch": false,
    "category": "Accelerated computing",
    "gpuNum": 1,
    "hideHardwareSpecs": false,
    "memoryGiB": 256,
    "name": "ml.g4dn.16xlarge",
    "vcpuNum": 64
   },
   {
    "_defaultOrder": 35,
    "_isFastLaunch": false,
    "category": "Accelerated computing",
    "gpuNum": 1,
    "hideHardwareSpecs": false,
    "memoryGiB": 61,
    "name": "ml.p3.2xlarge",
    "vcpuNum": 8
   },
   {
    "_defaultOrder": 36,
    "_isFastLaunch": false,
    "category": "Accelerated computing",
    "gpuNum": 4,
    "hideHardwareSpecs": false,
    "memoryGiB": 244,
    "name": "ml.p3.8xlarge",
    "vcpuNum": 32
   },
   {
    "_defaultOrder": 37,
    "_isFastLaunch": false,
    "category": "Accelerated computing",
    "gpuNum": 8,
    "hideHardwareSpecs": false,
    "memoryGiB": 488,
    "name": "ml.p3.16xlarge",
    "vcpuNum": 64
   },
   {
    "_defaultOrder": 38,
    "_isFastLaunch": false,
    "category": "Accelerated computing",
    "gpuNum": 8,
    "hideHardwareSpecs": false,
    "memoryGiB": 768,
    "name": "ml.p3dn.24xlarge",
    "vcpuNum": 96
   },
   {
    "_defaultOrder": 39,
    "_isFastLaunch": false,
    "category": "Memory Optimized",
    "gpuNum": 0,
    "hideHardwareSpecs": false,
    "memoryGiB": 16,
    "name": "ml.r5.large",
    "vcpuNum": 2
   },
   {
    "_defaultOrder": 40,
    "_isFastLaunch": false,
    "category": "Memory Optimized",
    "gpuNum": 0,
    "hideHardwareSpecs": false,
    "memoryGiB": 32,
    "name": "ml.r5.xlarge",
    "vcpuNum": 4
   },
   {
    "_defaultOrder": 41,
    "_isFastLaunch": false,
    "category": "Memory Optimized",
    "gpuNum": 0,
    "hideHardwareSpecs": false,
    "memoryGiB": 64,
    "name": "ml.r5.2xlarge",
    "vcpuNum": 8
   },
   {
    "_defaultOrder": 42,
    "_isFastLaunch": false,
    "category": "Memory Optimized",
    "gpuNum": 0,
    "hideHardwareSpecs": false,
    "memoryGiB": 128,
    "name": "ml.r5.4xlarge",
    "vcpuNum": 16
   },
   {
    "_defaultOrder": 43,
    "_isFastLaunch": false,
    "category": "Memory Optimized",
    "gpuNum": 0,
    "hideHardwareSpecs": false,
    "memoryGiB": 256,
    "name": "ml.r5.8xlarge",
    "vcpuNum": 32
   },
   {
    "_defaultOrder": 44,
    "_isFastLaunch": false,
    "category": "Memory Optimized",
    "gpuNum": 0,
    "hideHardwareSpecs": false,
    "memoryGiB": 384,
    "name": "ml.r5.12xlarge",
    "vcpuNum": 48
   },
   {
    "_defaultOrder": 45,
    "_isFastLaunch": false,
    "category": "Memory Optimized",
    "gpuNum": 0,
    "hideHardwareSpecs": false,
    "memoryGiB": 512,
    "name": "ml.r5.16xlarge",
    "vcpuNum": 64
   },
   {
    "_defaultOrder": 46,
    "_isFastLaunch": false,
    "category": "Memory Optimized",
    "gpuNum": 0,
    "hideHardwareSpecs": false,
    "memoryGiB": 768,
    "name": "ml.r5.24xlarge",
    "vcpuNum": 96
   },
   {
    "_defaultOrder": 47,
    "_isFastLaunch": false,
    "category": "Accelerated computing",
    "gpuNum": 1,
    "hideHardwareSpecs": false,
    "memoryGiB": 16,
    "name": "ml.g5.xlarge",
    "vcpuNum": 4
   },
   {
    "_defaultOrder": 48,
    "_isFastLaunch": false,
    "category": "Accelerated computing",
    "gpuNum": 1,
    "hideHardwareSpecs": false,
    "memoryGiB": 32,
    "name": "ml.g5.2xlarge",
    "vcpuNum": 8
   },
   {
    "_defaultOrder": 49,
    "_isFastLaunch": false,
    "category": "Accelerated computing",
    "gpuNum": 1,
    "hideHardwareSpecs": false,
    "memoryGiB": 64,
    "name": "ml.g5.4xlarge",
    "vcpuNum": 16
   },
   {
    "_defaultOrder": 50,
    "_isFastLaunch": false,
    "category": "Accelerated computing",
    "gpuNum": 1,
    "hideHardwareSpecs": false,
    "memoryGiB": 128,
    "name": "ml.g5.8xlarge",
    "vcpuNum": 32
   },
   {
    "_defaultOrder": 51,
    "_isFastLaunch": false,
    "category": "Accelerated computing",
    "gpuNum": 1,
    "hideHardwareSpecs": false,
    "memoryGiB": 256,
    "name": "ml.g5.16xlarge",
    "vcpuNum": 64
   },
   {
    "_defaultOrder": 52,
    "_isFastLaunch": false,
    "category": "Accelerated computing",
    "gpuNum": 4,
    "hideHardwareSpecs": false,
    "memoryGiB": 192,
    "name": "ml.g5.12xlarge",
    "vcpuNum": 48
   },
   {
    "_defaultOrder": 53,
    "_isFastLaunch": false,
    "category": "Accelerated computing",
    "gpuNum": 4,
    "hideHardwareSpecs": false,
    "memoryGiB": 384,
    "name": "ml.g5.24xlarge",
    "vcpuNum": 96
   },
   {
    "_defaultOrder": 54,
    "_isFastLaunch": false,
    "category": "Accelerated computing",
    "gpuNum": 8,
    "hideHardwareSpecs": false,
    "memoryGiB": 768,
    "name": "ml.g5.48xlarge",
    "vcpuNum": 192
   },
   {
    "_defaultOrder": 55,
    "_isFastLaunch": false,
    "category": "Accelerated computing",
    "gpuNum": 8,
    "hideHardwareSpecs": false,
    "memoryGiB": 1152,
    "name": "ml.p4d.24xlarge",
    "vcpuNum": 96
   },
   {
    "_defaultOrder": 56,
    "_isFastLaunch": false,
    "category": "Accelerated computing",
    "gpuNum": 8,
    "hideHardwareSpecs": false,
    "memoryGiB": 1152,
    "name": "ml.p4de.24xlarge",
    "vcpuNum": 96
   }
  ],
  "instance_type": "ml.t3.medium",
  "kernelspec": {
   "display_name": "Python 3 (Data Science 3.0)",
   "language": "python",
   "name": "python3__SAGEMAKER_INTERNAL__arn:aws:sagemaker:us-west-2:236514542706:image/sagemaker-data-science-310-v1"
  },
  "language_info": {
   "codemirror_mode": {
    "name": "ipython",
    "version": 3
   },
   "file_extension": ".py",
   "mimetype": "text/x-python",
   "name": "python",
   "nbconvert_exporter": "python",
   "pygments_lexer": "ipython3",
   "version": "3.10.6"
  }
 },
 "nbformat": 4,
 "nbformat_minor": 5
}
